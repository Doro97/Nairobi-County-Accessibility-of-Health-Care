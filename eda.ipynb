{
 "cells": [
  {
   "cell_type": "code",
   "execution_count": 15,
   "metadata": {},
   "outputs": [],
   "source": [
    "import requests\n",
    "import json\n"
   ]
  },
  {
   "cell_type": "code",
   "execution_count": 28,
   "metadata": {},
   "outputs": [
    {
     "name": "stdout",
     "output_type": "stream",
     "text": [
      "{\"help\": \"https://openafrica.net/api/3/action/help_show?name=datastore_search\", \"success\": false, \"error\": {\"message\": \"Not found: Resource \\\"9b94fe50-9d75-4b92-be00-6354c6e6cc88\\\" was not found.\", \"__type\": \"Not Found Error\"}}\n"
     ]
    }
   ],
   "source": [
    "\n",
    "response = requests.get(\"https://openafrica.net/api/3/action/datastore_search?resource_id=9b94fe50-9d75-4b92-be00-6354c6e6cc88&q=nairobi\")\n",
    "print(response.text)"
   ]
  },
  {
   "cell_type": "code",
   "execution_count": 17,
   "metadata": {},
   "outputs": [
    {
     "name": "stdout",
     "output_type": "stream",
     "text": [
      "{'_id': 382, 'name': 'Nairobi City      ', 'Male': 2192452, 'Female': 2204376, 'Intersex': 245, 'Total': 4397073, 'rank': 0.057308756}\n"
     ]
    }
   ],
   "source": [
    "\n",
    "# Load JSON data\n",
    "data = json.loads(response.text)\n",
    "\n",
    "# Accessing the 'records' key and iterating through the values\n",
    "for record in data['result']['records']:\n",
    "    print(record)\n"
   ]
  }
 ],
 "metadata": {
  "kernelspec": {
   "display_name": "Python 3",
   "language": "python",
   "name": "python3"
  },
  "language_info": {
   "codemirror_mode": {
    "name": "ipython",
    "version": 3
   },
   "file_extension": ".py",
   "mimetype": "text/x-python",
   "name": "python",
   "nbconvert_exporter": "python",
   "pygments_lexer": "ipython3",
   "version": "3.11.4"
  }
 },
 "nbformat": 4,
 "nbformat_minor": 2
}
